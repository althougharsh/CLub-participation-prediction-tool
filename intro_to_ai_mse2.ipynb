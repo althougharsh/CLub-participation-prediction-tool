{
  "nbformat": 4,
  "nbformat_minor": 0,
  "metadata": {
    "colab": {
      "provenance": [],
      "toc_visible": true,
      "authorship_tag": "ABX9TyMpzNtiOEyLOHXh5rZWJaHO",
      "include_colab_link": true
    },
    "kernelspec": {
      "name": "python3",
      "display_name": "Python 3"
    },
    "language_info": {
      "name": "python"
    }
  },
  "cells": [
    {
      "cell_type": "markdown",
      "metadata": {
        "id": "view-in-github",
        "colab_type": "text"
      },
      "source": [
        "<a href=\"https://colab.research.google.com/github/althougharsh/CLub-participation-prediction-tool/blob/main/intro_to_ai_mse2.ipynb\" target=\"_parent\"><img src=\"https://colab.research.google.com/assets/colab-badge.svg\" alt=\"Open In Colab\"/></a>"
      ]
    },
    {
      "cell_type": "code",
      "source": [
        "# Importing necessary libraries\n",
        "import pandas as pd\n",
        "import gdown\n",
        "from sklearn.model_selection import train_test_split\n",
        "from sklearn.preprocessing import LabelEncoder\n",
        "from sklearn.ensemble import RandomForestClassifier\n",
        "from sklearn.metrics import accuracy_score\n",
        "\n",
        "# URL of the dataset to download\n",
        "url = \"https://drive.google.com/uc?id=1d_stwG7PnM509FwEjDcFcvZml4RdYzYN\"\n",
        "output = \"club_participation.csv\"\n",
        "# Download the dataset\n",
        "gdown.download(url, output, quiet=False)\n",
        "\n",
        "# Load the dataset into a DataFrame\n",
        "df = pd.read_csv(\"club_participation.csv\")\n",
        "\n",
        "# Strip any leading/trailing spaces from the column names\n",
        "df.columns = df.columns.str.strip()\n",
        "\n",
        "# Print the available column names in the dataset\n",
        "print(\"Available columns:\", df.columns.tolist())\n",
        "\n",
        "# Define the target column for prediction\n",
        "target_column = 'club_participation'\n",
        "\n",
        "# Check if the target column exists in the dataset, raise an error if not\n",
        "if target_column not in df.columns:\n",
        "    raise ValueError(f\"Target column '{target_column}' not found in dataset.\")\n",
        "\n",
        "# Create a dictionary to store label encoders for categorical columns\n",
        "label_encoders = {}\n",
        "for column in df.columns:\n",
        "    # Check if the column has categorical data (object type)\n",
        "    if df[column].dtype == 'object':\n",
        "        # Initialize LabelEncoder for this column\n",
        "        le = LabelEncoder()\n",
        "        # Convert the categorical values to numeric values\n",
        "        df[column] = le.fit_transform(df[column])\n",
        "        # Store the encoder in the dictionary\n",
        "        label_encoders[column] = le\n",
        "\n",
        "# Separate the features (X) and target variable (y)\n",
        "X = df.drop(target_column, axis=1)\n",
        "y = df[target_column]\n",
        "\n",
        "# Split the dataset into training and testing sets (80% training, 20% testing)\n",
        "X_train, X_test, y_train, y_test = train_test_split(X, y, test_size=0.2, random_state=42)\n",
        "\n",
        "# Initialize and train a RandomForestClassifier model\n",
        "model = RandomForestClassifier()\n",
        "model.fit(X_train, y_train)\n",
        "\n",
        "# Make predictions using the trained model on the test data\n",
        "y_pred = model.predict(X_test)\n",
        "\n",
        "# Calculate and print the model's accuracy on the test data\n",
        "print(\"Model Accuracy:\", round(accuracy_score(y_test, y_pred) * 100, 2), \"%\")\n",
        "\n",
        "# Request user input to predict the club participation of a student\n",
        "print(\"\\nEnter student details for prediction\")\n",
        "user_data = {}\n",
        "\n",
        "# Loop through all columns in the feature set (X)\n",
        "for col in X.columns:\n",
        "    # If the column is categorical, ask the user to choose from available options\n",
        "    if col in label_encoders:\n",
        "        options = list(label_encoders[col].classes_)\n",
        "        print(f\"\\nOptions for {col}: {options}\")\n",
        "        val = input(f\"Enter {col}: \")\n",
        "        # Ensure the input is valid, prompt again if not\n",
        "        while val not in options:\n",
        "            print(\"Invalid input! Please choose from:\", options)\n",
        "            val = input(f\"Enter {col}: \")\n",
        "        # Encode the input value into a numeric format\n",
        "        encoded_val = label_encoders[col].transform([val])[0]\n",
        "        user_data[col] = encoded_val\n",
        "    else:\n",
        "        # For numeric columns, directly ask for the value\n",
        "        val = float(input(f\"Enter {col} (numeric): \"))\n",
        "        user_data[col] = val\n",
        "\n",
        "# Create a DataFrame with the user's input data\n",
        "input_df = pd.DataFrame([user_data])\n",
        "\n",
        "# Make a prediction based on the user's input\n",
        "prediction = model.predict(input_df)[0]\n",
        "\n",
        "# If the target column is categorical, convert the prediction back to its original label\n",
        "if target_column in label_encoders:\n",
        "    result = label_encoders[target_column].inverse_transform([prediction])[0]\n",
        "else:\n",
        "    result = prediction\n",
        "\n",
        "# Output the predicted result\n",
        "print(f\"\\nPredicted Club Participation: {result}\")\n"
      ],
      "metadata": {
        "colab": {
          "base_uri": "https://localhost:8080/"
        },
        "id": "dWLEme2HyJLV",
        "outputId": "89390131-9a95-4b1b-e2c4-f4326f9f0f8e"
      },
      "execution_count": 20,
      "outputs": [
        {
          "output_type": "stream",
          "name": "stderr",
          "text": [
            "Downloading...\n",
            "From: https://drive.google.com/uc?id=1d_stwG7PnM509FwEjDcFcvZml4RdYzYN\n",
            "To: /content/club_participation.csv\n",
            "100%|██████████| 859/859 [00:00<00:00, 1.86MB/s]\n"
          ]
        },
        {
          "output_type": "stream",
          "name": "stdout",
          "text": [
            "Available columns: ['interest_level', 'free_hours_per_week', 'club_participation']\n",
            "Model Accuracy: 35.0 %\n",
            "\n",
            "Enter student details for prediction\n",
            "Enter interest_level (numeric): 4\n",
            "Enter free_hours_per_week (numeric): 10\n",
            "\n",
            "Predicted Club Participation: no\n"
          ]
        }
      ]
    }
  ]
}